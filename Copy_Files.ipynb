{
 "cells": [
  {
   "cell_type": "code",
   "execution_count": 25,
   "metadata": {},
   "outputs": [],
   "source": [
    "%matplotlib inline\n",
    "import os\n",
    "import matplotlib.pyplot as plt\n",
    "from matplotlib.pyplot import figure\n",
    "import numpy as np\n",
    "from PIL import Image\n",
    "import shutil\n",
    "import pandas as pd\n",
    "import cv2\n",
    "from IPython.display import clear_output\n",
    "import os\n",
    "from sklearn import preprocessing\n",
    "import matplotlib.patches as patches\n",
    "import time"
   ]
  },
  {
   "cell_type": "code",
   "execution_count": 26,
   "metadata": {},
   "outputs": [],
   "source": [
    "Haak1_true_df = pd.read_csv(r'/Volumes/Samsung_T5/Haak_data/Flight1/Haak1_true_annot.csv')\n",
    "Haak1_anomalies_object_df = pd.read_csv(r'/Volumes/Samsung_T5/Haak_data/Flight1/Haak1_ano_object_annot.csv')\n",
    "Haak1_anomalies_land_df = pd.read_csv(r'/Volumes/Samsung_T5/Haak_data/Flight1/Haak1_ano_land_annot.csv')"
   ]
  },
  {
   "cell_type": "code",
   "execution_count": 28,
   "metadata": {},
   "outputs": [],
   "source": [
    "import shutil\n",
    "source_dir = '/Volumes/Samsung_T5/Haak_data/Flight1/20170926_norm_1100-3900/'\n",
    "dest_dir   = '/Volumes/Samsung_T5/Haak_data/Flight1/20170926_norm_1100-3900_ano_land/'\n",
    "\n",
    "files = os.listdir(source_dir)\n",
    "\n",
    "for i, file in enumerate(files):\n",
    "    \n",
    "    isAnomObject = Haak1_anomalies_object_df['file'].str.contains(file).sum()\n",
    "    isAnomLand   = Haak1_anomalies_land_df['file'].str.contains(file).sum()\n",
    "    isTrue       = Haak1_true_df['file'].str.contains(file).sum()\n",
    "    \n",
    "    source_path = os.path.join(source_dir, file)\n",
    "    dest_path = os.path.join(dest_dir, file)\n",
    "    \n",
    "    if isAnomLand:\n",
    "        shutil.copyfile(source_path, dest_path)"
   ]
  }
 ],
 "metadata": {
  "kernelspec": {
   "display_name": "Python 3",
   "language": "python",
   "name": "python3"
  },
  "language_info": {
   "codemirror_mode": {
    "name": "ipython",
    "version": 3
   },
   "file_extension": ".py",
   "mimetype": "text/x-python",
   "name": "python",
   "nbconvert_exporter": "python",
   "pygments_lexer": "ipython3",
   "version": "3.8.6"
  }
 },
 "nbformat": 4,
 "nbformat_minor": 4
}
