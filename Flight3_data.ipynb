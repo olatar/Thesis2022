{
 "cells": [
  {
   "cell_type": "code",
   "execution_count": null,
   "metadata": {},
   "outputs": [],
   "source": [
    "import os\n",
    "import matplotlib.pyplot as plt\n",
    "from matplotlib.pyplot import figure\n",
    "import numpy as np\n",
    "from PIL import Image\n",
    "import shutil\n",
    "import pandas as pd"
   ]
  },
  {
   "cell_type": "markdown",
   "metadata": {},
   "source": [
    "# FLIGHT 3"
   ]
  },
  {
   "cell_type": "code",
   "execution_count": null,
   "metadata": {},
   "outputs": [],
   "source": [
    "anomalies_object_df = pd.read_csv(r'/Volumes/Samsung_T5/Haak_data/Flight3/Anomalies_object.csv')\n",
    "anomalies_land_df = pd.read_csv(r'/Volumes/Samsung_T5/Haak_data/Flight3/Anomalies_land.csv')\n",
    "anomalies_all_df = pd.read_csv(r'/Volumes/Samsung_T5/Haak_data/Flight3/Anomalies_all.csv')\n",
    "anomalies_true_df = pd.read_csv(r'/Volumes/Samsung_T5/Haak_data/Flight3/True.csv')"
   ]
  },
  {
   "cell_type": "code",
   "execution_count": null,
   "metadata": {},
   "outputs": [],
   "source": [
    "directory = '/Volumes/Samsung_T5/Haak_data/Flight3/20170926_simple-naming/' # 14-bit\n",
    "\n",
    "true_imgs = []\n",
    "ano_object_imgs = []\n",
    "ano_land_imgs = []\n",
    "\n",
    "files = len(os.listdir(directory))\n",
    "loops = files\n",
    "\n",
    "for i, file in enumerate(os.listdir(directory)[:loops]):\n",
    "    print(str(i) + '/' + str(files), end='\\r')\n",
    "\n",
    "    file_png = file.split('.')[0][1:] + '.png'\n",
    "    isAnomObject = anomalies_object_df['Anomalies_object'].str.contains(file_png).sum()\n",
    "    isAnomLand   = anomalies_land_df['Anomalies_land'].str.contains(file_png).sum()\n",
    "    isTrue       = anomalies_true_df['True'].str.contains(file_png).sum()\n",
    "    \n",
    "    if isTrue:\n",
    "        img = np.array(Image.open(os.path.join(directory, file)))\n",
    "        true_imgs = [*true_imgs, img]\n",
    "    \n",
    "    '''\n",
    "    if isAnomObject:\n",
    "        img = np.array(Image.open(os.path.join(directory, file)))\n",
    "        ano_object_imgs = [*ano_object_imgs, img]\n",
    "    '''   \n",
    "    if isAnomLand:\n",
    "        img = np.array(Image.open(os.path.join(directory, file)))\n",
    "        ano_land_imgs = [*ano_land_imgs, img]\n",
    "    \n",
    "        \n",
    "true_imgs       = np.array(true_imgs)\n",
    "ano_object_imgs = np.array(ano_object_imgs)\n",
    "ano_land_imgs   = np.array(ano_land_imgs)"
   ]
  },
  {
   "cell_type": "code",
   "execution_count": null,
   "metadata": {},
   "outputs": [],
   "source": [
    "max2 = 0\n",
    "min2 = 1000000\n",
    "\n",
    "for i, file in enumerate(os.listdir(directory)[:loops]):\n",
    "    print(str(i) + '/' + str(files), end='\\r')\n",
    "\n",
    "    file_png = file.split('.')[0][1:] + '.png'\n",
    "    img = np.array(Image.open(os.path.join(directory, file)))\n",
    "    \n",
    "    temp_max = img.max()\n",
    "    if temp_max > max2:\n",
    "        max2 = temp_max\n",
    "        \n",
    "    temp_min = img.min()\n",
    "    if temp_min < min2:\n",
    "        min2 = temp_min"
   ]
  },
  {
   "cell_type": "code",
   "execution_count": null,
   "metadata": {},
   "outputs": [],
   "source": [
    "min_all = 1333\n",
    "max_all = 3751\n",
    "\n",
    "min_true = 2082\n",
    "max_true = 2646"
   ]
  },
  {
   "cell_type": "code",
   "execution_count": null,
   "metadata": {},
   "outputs": [],
   "source": [
    "#hist, edges = np.histogram(true_imgs[0].flatten(), density=True, bins=(max2-min2), range=(min2,max2) )\n",
    "hist, edges = np.histogram(true_imgs[0].flatten(), density=True, bins=(max_true-min_true)+1, range=(min_true,max_true+1) )\n",
    "figure(figsize=(24, 6))\n",
    "plt.bar(edges[:-1], hist)"
   ]
  },
  {
   "cell_type": "code",
   "execution_count": null,
   "metadata": {
    "scrolled": false
   },
   "outputs": [],
   "source": [
    "# define subplot grid\n",
    "import random\n",
    "\n",
    "fig, axs = plt.subplots(nrows=8, ncols=6, figsize=(32, 24))\n",
    "#fig, axs = plt.subplots(nrows=2, ncols=6, figsize=(32, 12))\n",
    "fig.subplots_adjust(hspace=1)\n",
    "fig.suptitle(\"Histogram - Ocean Surface\", fontsize=32, y=0.95)\n",
    "\n",
    "n_imgs = len(anomalies_true_df)\n",
    "error = 0\n",
    "prev_rand_frame = 0\n",
    "prev_hist = 0\n",
    "\n",
    "# loop through tickers and axes\n",
    "for i, ax in enumerate(axs.ravel()):\n",
    "    rand_frame = random.randint(0, n_imgs)\n",
    "    \n",
    "    hist, edges = np.histogram(true_imgs[rand_frame].flatten(), \n",
    "                               density=True, \n",
    "                               bins=(max_true-min_true)+1, \n",
    "                               range=(min_true,max_true+1) )\n",
    "    ax.plot(edges[:-1], hist)\n",
    "\n",
    "    if i > 0:\n",
    "        error = 100*( np.sum( (prev_hist-hist).clip(min=0) ) )\n",
    "        ax.set_title('{} | error(i-1 -> i): {:.2f}%'\n",
    "                     .format(anomalies_true_df['True'][rand_frame], error))\n",
    "    else:\n",
    "        ax.set_title('{}'\n",
    "                     .format(anomalies_true_df['True'][rand_frame]))\n",
    "    \n",
    "    prev_hist = hist\n",
    "    prev_rand_frame = rand_frame\n",
    "plt.show()"
   ]
  },
  {
   "cell_type": "code",
   "execution_count": null,
   "metadata": {},
   "outputs": [],
   "source": [
    "# define subplot grid\n",
    "import random\n",
    "\n",
    "fig, axs = plt.subplots(nrows=8, ncols=6, figsize=(32, 24))\n",
    "#fig, axs = plt.subplots(nrows=2, ncols=6, figsize=(32, 12))\n",
    "fig.subplots_adjust(hspace=1)\n",
    "fig.suptitle(\"Histogram - Ocean Surface\", fontsize=32, y=0.95)\n",
    "\n",
    "n_imgs = len(anomalies_land_df)\n",
    "error = 0\n",
    "prev_rand_frame = 0\n",
    "prev_hist = 0\n",
    "\n",
    "# loop through tickers and axes\n",
    "for i, ax in enumerate(axs.ravel()):\n",
    "    rand_frame = random.randint(0, n_imgs)\n",
    "    \n",
    "    hist, edges = np.histogram(ano_land_imgs[rand_frame].flatten(), \n",
    "                               density=True, \n",
    "                               bins=(max_true-min_true)+1, \n",
    "                               range=(min_true,max_true+1) )\n",
    "    ax.plot(edges[:-1], hist)\n",
    "\n",
    "    if i > 0:\n",
    "        error = 100*( np.sum( (prev_hist-hist).clip(min=0) ) )\n",
    "        ax.set_title('{} | error(i-1 -> i): {:.2f}%'\n",
    "                     .format(anomalies_true_df['True'][rand_frame], error))\n",
    "    else:\n",
    "        ax.set_title('{}'\n",
    "                     .format(anomalies_true_df['True'][rand_frame]))\n",
    "    \n",
    "    prev_hist = hist\n",
    "    prev_rand_frame = rand_frame\n",
    "plt.show()"
   ]
  },
  {
   "cell_type": "code",
   "execution_count": null,
   "metadata": {},
   "outputs": [],
   "source": [
    "plt.figure(figsize=(32, 18))\n",
    "plt.title(\"Histogram - Ocean Surface\", fontsize=12, y=0.95)\n",
    "\n",
    "frames = len(true_imgs)\n",
    "# loop through tickers and axes\n",
    "\n",
    "for i in range(frames):\n",
    "    if not (i % 5):\n",
    "        print(str(i) + '/' + str(frames), end='\\r')\n",
    "        hist, edges = np.histogram(true_imgs[i].flatten(), \n",
    "                                       density=True, \n",
    "                                       bins=(max_true-min_true)+1, \n",
    "                                       range=(min_true,max_true+1) )\n",
    "        plt.plot(edges[:-1], hist, label=anomalies_true_df['True'][i], color='black', linewidth=4, alpha=0.1)\n",
    "\n",
    "#plt.legend(prop={'size': 10}, ncol=10)\n",
    "plt.show()"
   ]
  },
  {
   "cell_type": "code",
   "execution_count": null,
   "metadata": {},
   "outputs": [],
   "source": [
    "frames = len(true_imgs)\n",
    "\n",
    "hist_true = []\n",
    "edges_true = []\n",
    "\n",
    "for i in range(frames):\n",
    "    print(str(i) + '/' + str(frames), end='\\r')\n",
    "    hist, edges = np.histogram(true_imgs[i].flatten(), \n",
    "                                   density=True, \n",
    "                                   bins=(max_true-min_true)+1, \n",
    "                                   range=(min_true,max_true+1) )\n",
    "\n",
    "    hist_true = [*hist_true, hist]\n",
    "    edges_true = [*edges_true, edges]\n",
    "\n",
    "hist_true = np.array(hist_true)\n",
    "edges_true = np.array(edges_true)"
   ]
  },
  {
   "cell_type": "code",
   "execution_count": null,
   "metadata": {},
   "outputs": [],
   "source": [
    "frames = len(true_imgs)\n",
    "\n",
    "hist_true = []\n",
    "edges_true = []\n",
    "\n",
    "for i in range(frames):\n",
    "    print(str(i) + '/' + str(frames), end='\\r')\n",
    "    hist, edges = np.histogram(true_imgs[i].flatten(), \n",
    "                                   density=True, \n",
    "                                   bins=(max_true-min_true)+1, \n",
    "                                   range=(min_true,max_true+1) )\n",
    "\n",
    "    hist_true = [*hist_true, hist]\n",
    "    edges_true = [*edges_true, edges]\n",
    "\n",
    "hist_true = np.array(hist_true)\n",
    "edges_true = np.array(edges_true)"
   ]
  },
  {
   "cell_type": "markdown",
   "metadata": {},
   "source": [
    "# DBSCAN"
   ]
  },
  {
   "cell_type": "code",
   "execution_count": null,
   "metadata": {},
   "outputs": [],
   "source": [
    "from sklearn.cluster import DBSCAN\n",
    "X = hist_true\n",
    "clust_DBSCAN = DBSCAN(eps=0.01, min_samples=2).fit(X)\n",
    "print(min(clust_DBSCAN.labels_))\n",
    "print(max(clust_DBSCAN.labels_))\n",
    "\n",
    "labels_uint = clust_DBSCAN.labels_"
   ]
  },
  {
   "cell_type": "code",
   "execution_count": null,
   "metadata": {},
   "outputs": [],
   "source": [
    "fig = plt.figure(figsize=(32, 18))\n",
    "ax = fig.add_subplot(1, 1, 1)\n",
    "plt.title(\"Histogram - Ocean Surface\", fontsize=24, y=0.95)\n",
    "\n",
    "# Colors\n",
    "colors = plt.get_cmap('jet', max(labels_uint) + 1)\n",
    "frames = len(true_imgs)\n",
    "# loop through tickers and axes\n",
    "\n",
    "for i in range(frames):\n",
    "    if not (i % 10):\n",
    "        print(str(i) + '/' + str(frames), end='\\r')\n",
    "        color_idx = colors(labels_uint[i])\n",
    "        plt.plot(edges_true[0][:-1], hist_true[i], \n",
    "                 color=color_idx, linewidth=4, \n",
    "                 alpha=0.5)\n",
    "\n",
    "for i in range(max(labels_uint) + 1):\n",
    "    c = colors(i)\n",
    "    plt.plot(edges_true[0][:-1], np.zeros(hist_true[0].shape), \n",
    "                 color=c, linewidth=10, \n",
    "                 alpha=0.5, label='class: ' + str(i))\n",
    "\n",
    "plt.plot(edges[:-1], np.zeros(hist.shape), \n",
    "             color='white', linewidth=10, \n",
    "             alpha=1)\n",
    "    \n",
    "plt.legend(prop={'size': 24})\n",
    "plt.show()"
   ]
  },
  {
   "cell_type": "markdown",
   "metadata": {},
   "source": [
    "# OPTICS"
   ]
  },
  {
   "cell_type": "code",
   "execution_count": null,
   "metadata": {},
   "outputs": [],
   "source": [
    "from sklearn.cluster import OPTICS\n",
    "X = hist_true\n",
    "clust_OPTICS = OPTICS(min_samples=50, xi=0.05, min_cluster_size=0.05).fit(X)\n",
    "print(min(clust_OPTICS.labels_))\n",
    "print(max(clust_OPTICS.labels_))\n",
    "\n",
    "labels_uint = clust_OPTICS.labels_ + 1"
   ]
  },
  {
   "cell_type": "code",
   "execution_count": null,
   "metadata": {},
   "outputs": [],
   "source": [
    "fig = plt.figure(figsize=(32, 18))\n",
    "ax = fig.add_subplot(1, 1, 1)\n",
    "plt.title(\"Histogram - Ocean Surface\", fontsize=24, y=0.95)\n",
    "\n",
    "# Colors\n",
    "colors = plt.get_cmap('jet', max(labels_uint) + 1)\n",
    "frames = len(true_imgs)\n",
    "# loop through tickers and axes\n",
    "\n",
    "for i in range(frames):\n",
    "    if not (i % 10):\n",
    "        print(str(i) + '/' + str(frames), end='\\r')\n",
    "        color_idx = colors(labels_uint[i])\n",
    "        plt.plot(edges_true[0][:-1], hist_true[i], \n",
    "                 color=color_idx, linewidth=4, \n",
    "                 alpha=0.5)\n",
    "\n",
    "for i in range(max(labels_uint) + 1):\n",
    "    c = colors(i)\n",
    "    plt.plot(edges_true[0][:-1], np.zeros(hist_true[0].shape), \n",
    "                 color=c, linewidth=10, \n",
    "                 alpha=0.5, label='class: ' + str(i))\n",
    "\n",
    "plt.plot(edges[:-1], np.zeros(hist.shape), \n",
    "             color='white', linewidth=10, \n",
    "             alpha=1)\n",
    "    \n",
    "plt.legend(prop={'size': 24})\n",
    "plt.show()"
   ]
  },
  {
   "cell_type": "markdown",
   "metadata": {},
   "source": [
    "# K-MEANS"
   ]
  },
  {
   "cell_type": "code",
   "execution_count": null,
   "metadata": {},
   "outputs": [],
   "source": [
    "from sklearn.cluster import KMeans\n",
    "X = hist_true\n",
    "clust_KMeans = KMeans(n_clusters=3).fit(X)\n",
    "print(min(clust_KMeans.labels_))\n",
    "print(max(clust_KMeans.labels_))\n",
    "\n",
    "labels_uint = clust_KMeans.labels_"
   ]
  },
  {
   "cell_type": "code",
   "execution_count": null,
   "metadata": {},
   "outputs": [],
   "source": [
    "fig = plt.figure(figsize=(32, 18))\n",
    "ax = fig.add_subplot(1, 1, 1)\n",
    "plt.title(\"Histogram - Ocean Surface\", fontsize=24, y=0.95)\n",
    "\n",
    "\n",
    "# Colors\n",
    "colors = plt.get_cmap('jet', max(labels_uint) + 1)\n",
    "frames = len(true_imgs)\n",
    "# loop through tickers and axes\n",
    "\n",
    "for i in range(frames):\n",
    "    if not (i % 10):\n",
    "        print(str(i) + '/' + str(frames), end='\\r')\n",
    "        color_idx = colors(labels_uint[i])\n",
    "        plt.plot(edges_true[0][:-1], hist_true[i], \n",
    "                 color=color_idx, linewidth=4, \n",
    "                 alpha=0.5)\n",
    "\n",
    "for i in range(max(labels_uint) + 1):\n",
    "    c = colors(i)\n",
    "    plt.plot(edges_true[0][:-1], np.zeros(hist_true[0].shape), \n",
    "                 color=c, linewidth=10, \n",
    "                 alpha=0.5, label='class: ' + str(i))\n",
    "\n",
    "plt.plot(edges[:-1], np.zeros(hist.shape), \n",
    "             color='white', linewidth=10, \n",
    "             alpha=1)\n",
    "    \n",
    "plt.legend(prop={'size': 24})\n",
    "plt.show()"
   ]
  },
  {
   "cell_type": "markdown",
   "metadata": {},
   "source": [
    "# True & Land"
   ]
  },
  {
   "cell_type": "code",
   "execution_count": null,
   "metadata": {},
   "outputs": [],
   "source": [
    "X_true_n_land = np.append(true_imgs, ano_land_imgs, axis=0)\n",
    "\n",
    "X_true_label = np.zeros(true_imgs.shape[0])\n",
    "X_ano_land_label = np.ones(ano_land_imgs.shape[0])\n",
    "X_true_n_land_labels = np.append(X_true_label, X_ano_land_label)\n",
    "\n",
    "X_true_n_land.shape"
   ]
  },
  {
   "cell_type": "code",
   "execution_count": null,
   "metadata": {},
   "outputs": [],
   "source": [
    "frames = len(X_true_n_land)\n",
    "\n",
    "hist_true_n_land = []\n",
    "edges_true_n_land = []\n",
    "\n",
    "for i in range(frames):\n",
    "    print(str(i) + '/' + str(frames), end='\\r')\n",
    "    hist, edges = np.histogram(X_true_n_land[i].flatten(), \n",
    "                                   density=True, \n",
    "                                   bins=(max_true-min_true)+1, \n",
    "                                   range=(min_true,max_true+1) )\n",
    "\n",
    "    hist_true_n_land = [*hist_true_n_land, hist]\n",
    "    edges_true_n_land = [*edges_true_n_land, edges]\n",
    "\n",
    "hist_true_n_land = np.array(hist_true_n_land)\n",
    "edges_true_n_land = np.array(edges_true_n_land)\n",
    "\n",
    "hist_true_n_land.shape"
   ]
  },
  {
   "cell_type": "code",
   "execution_count": null,
   "metadata": {},
   "outputs": [],
   "source": [
    "X_true_n_land_flat = np.reshape(X_true_n_land, (X_true_n_land.shape[0], -1))"
   ]
  },
  {
   "cell_type": "markdown",
   "metadata": {},
   "source": [
    "# t-SNE - true & land"
   ]
  },
  {
   "cell_type": "code",
   "execution_count": null,
   "metadata": {},
   "outputs": [],
   "source": [
    "from sklearn.manifold import TSNE\n",
    "X = hist_true_n_land\n",
    "X_TSNE = TSNE(n_components=2).fit_transform(X)\n",
    "\n",
    "print(X_TSNE[:,0].shape)\n",
    "print(X_TSNE[:,1].shape)"
   ]
  },
  {
   "cell_type": "code",
   "execution_count": null,
   "metadata": {},
   "outputs": [],
   "source": [
    "colors = plt.get_cmap('jet', 2)\n",
    "\n",
    "plt.figure(figsize=(4, 3))\n",
    "plt.scatter(X_TSNE[:,0], X_TSNE[:,1], c=colors(X_true_n_land_labels), s=0.1)\n",
    "plt.show()"
   ]
  },
  {
   "cell_type": "code",
   "execution_count": null,
   "metadata": {},
   "outputs": [],
   "source": [
    "from sklearn.manifold import TSNE\n",
    "X = X_true_n_land_flat\n",
    "X_TSNE = TSNE(n_components=2).fit_transform(X)\n",
    "\n",
    "print(X_TSNE[:,0].shape)\n",
    "print(X_TSNE[:,1].shape)"
   ]
  },
  {
   "cell_type": "code",
   "execution_count": null,
   "metadata": {},
   "outputs": [],
   "source": [
    "colors = plt.get_cmap('rainbow', 2)\n",
    "\n",
    "plt.figure(figsize=(4, 3))\n",
    "plt.scatter(X_TSNE[:,0], X_TSNE[:,1], c=colors(X_true_n_land_labels), s=0.1)\n",
    "plt.show()"
   ]
  },
  {
   "cell_type": "markdown",
   "metadata": {},
   "source": [
    "# t-SNE"
   ]
  },
  {
   "cell_type": "code",
   "execution_count": null,
   "metadata": {},
   "outputs": [],
   "source": [
    "%matplotlib notebook\n",
    "%matplotlib widget\n",
    "from mpl_toolkits.mplot3d import Axes3D\n",
    "\n",
    "fig = plt.figure(figsize=(5, 4))\n",
    "ax = Axes3D(fig)\n",
    "ax.scatter(X_TSNE[:,0], X_TSNE[:,1], X_TSNE[:,2], s=5, c=colors(X_true_n_land_labels))\n",
    "\n",
    "plt.show()"
   ]
  },
  {
   "cell_type": "code",
   "execution_count": null,
   "metadata": {},
   "outputs": [],
   "source": [
    "from sklearn.manifold import TSNE\n",
    "X = hist_true\n",
    "X_TSNE = TSNE(n_components=3).fit_transform(X)"
   ]
  },
  {
   "cell_type": "code",
   "execution_count": null,
   "metadata": {},
   "outputs": [],
   "source": [
    "%matplotlib notebook\n",
    "%matplotlib widget\n",
    "from mpl_toolkits.mplot3d import Axes3D\n",
    "\n",
    "fig = plt.figure(figsize=(5, 4))\n",
    "ax = Axes3D(fig)\n",
    "ax.scatter(X_TSNE[:,0], X_TSNE[:,1], X_TSNE[:,2], s=5)\n",
    "\n",
    "plt.show()"
   ]
  },
  {
   "cell_type": "markdown",
   "metadata": {},
   "source": [
    "# t-SNE + DBSCAN"
   ]
  },
  {
   "cell_type": "code",
   "execution_count": null,
   "metadata": {
    "scrolled": true
   },
   "outputs": [],
   "source": [
    "from sklearn.cluster import KMeans\n",
    "X = X_TSNE\n",
    "clust_tSNE_KMeans = KMeans().fit(X)\n",
    "print(min(clust_tSNE_KMeans.labels_))\n",
    "print(max(clust_tSNE_KMeans.labels_))\n",
    "\n",
    "labels_uint = clust_tSNE_KMeans.labels_\n",
    "\n",
    "%matplotlib notebook\n",
    "%matplotlib widget\n",
    "from mpl_toolkits.mplot3d import Axes3D\n",
    "\n",
    "colors = plt.get_cmap('jet', max(labels_uint) + 1)\n",
    "\n",
    "fig = plt.figure(figsize=(5, 4))\n",
    "ax = Axes3D(fig)\n",
    "\n",
    "ax.scatter(X_TSNE[:,0], X_TSNE[:,1], X_TSNE[:,2], c=colors(labels_uint), s=5)\n",
    "plt.show()"
   ]
  },
  {
   "cell_type": "markdown",
   "metadata": {},
   "source": [
    "# PCA"
   ]
  },
  {
   "cell_type": "code",
   "execution_count": null,
   "metadata": {},
   "outputs": [],
   "source": [
    "from sklearn.decomposition import PCA\n",
    "%matplotlib inline\n",
    "\n",
    "X = hist_true\n",
    "X_PCA = PCA().fit(X)\n",
    "\n",
    "X_embedded = X_PCA.transform(X)\n",
    "X_reconstructed = X_PCA.inverse_transform(X_embedded)\n",
    "\n",
    "components = 20\n",
    "plt.figure(figsize=(16, 6))\n",
    "plt.bar(np.arange(1,components+1),X_PCA.explained_variance_ratio_[:components])\n",
    "plt.plot(np.arange(1,components+1), np.cumsum(X_PCA.explained_variance_ratio_[:components]),\n",
    "         color=\"orange\", marker=\"D\")\n",
    "plt.xticks(np.arange(1,components+1))\n",
    "plt.show()"
   ]
  },
  {
   "cell_type": "code",
   "execution_count": null,
   "metadata": {},
   "outputs": [],
   "source": [
    "from sklearn.decomposition import PCA\n",
    "\n",
    "components = 3\n",
    "X = hist_true\n",
    "X_PCA = PCA(n_components=components).fit(X)\n",
    "\n",
    "X_embedded = X_PCA.transform(X)\n",
    "X_reconstructed = X_PCA.inverse_transform(X_embedded)"
   ]
  },
  {
   "cell_type": "code",
   "execution_count": null,
   "metadata": {},
   "outputs": [],
   "source": [
    "plt.figure(figsize=(16, 6))\n",
    "plt.bar(np.arange(1,components+1),X_PCA.explained_variance_ratio_[:components])\n",
    "plt.plot(np.arange(1,components+1), np.cumsum(X_PCA.explained_variance_ratio_[:components]),\n",
    "         color=\"orange\", marker=\"D\")\n",
    "plt.xticks(np.arange(1,components+1))\n",
    "plt.show()"
   ]
  },
  {
   "cell_type": "markdown",
   "metadata": {},
   "source": [
    "# PCA + K-MEANS"
   ]
  },
  {
   "cell_type": "code",
   "execution_count": null,
   "metadata": {},
   "outputs": [],
   "source": [
    "from sklearn.cluster import KMeans\n",
    "\n",
    "X = X_reconstructed\n",
    "clust_KMeans = KMeans(n_clusters=components).fit(X)\n",
    "print(min(clust_KMeans.labels_))\n",
    "print(max(clust_KMeans.labels_))\n",
    "\n",
    "labels_uint = clust_KMeans.labels_"
   ]
  },
  {
   "cell_type": "code",
   "execution_count": null,
   "metadata": {
    "scrolled": false
   },
   "outputs": [],
   "source": [
    "fig = plt.figure(figsize=(16, 12))\n",
    "ax = fig.add_subplot(1, 1, 1)\n",
    "plt.title(\"Histogram - Ocean Surface - Reconstructed\", fontsize=24, y=0.95)\n",
    "\n",
    "\n",
    "# Colors\n",
    "colors = plt.get_cmap('jet', max(labels_uint) + 1)\n",
    "frames = len(true_imgs)\n",
    "# loop through tickers and axes\n",
    "\n",
    "for i in range(frames+1):\n",
    "    if not (i % 10):\n",
    "        print(str(i) + '/' + str(frames), end='\\r')\n",
    "        color_idx = colors(labels_uint[i])\n",
    "        plt.plot(edges_true[0][:-1], X_reconstructed[i], \n",
    "                 color=color_idx, linewidth=4, \n",
    "                 alpha=0.5)\n",
    "\n",
    "for i in range(max(labels_uint) + 1):\n",
    "    c = colors(i)\n",
    "    plt.plot(edges_true[0][:-1], np.zeros(hist_true[0].shape), \n",
    "                 color=c, linewidth=10, \n",
    "                 alpha=0.5, label='class: ' + str(i))\n",
    "\n",
    "plt.plot(edges[:-1], np.zeros(hist.shape), \n",
    "             color='white', linewidth=10, \n",
    "             alpha=1)\n",
    "    \n",
    "plt.legend(prop={'size': 24})\n",
    "plt.show()"
   ]
  },
  {
   "cell_type": "code",
   "execution_count": null,
   "metadata": {},
   "outputs": [],
   "source": [
    "fig = plt.figure(figsize=(16, 12))\n",
    "ax = fig.add_subplot(1, 1, 1)\n",
    "plt.title(\"Histogram - Ocean Surface - True\", fontsize=24, y=0.95)\n",
    "\n",
    "\n",
    "# Colors\n",
    "colors = plt.get_cmap('jet', max(labels_uint) + 1)\n",
    "frames = len(true_imgs)\n",
    "# loop through tickers and axes\n",
    "\n",
    "for i in range(frames+1):\n",
    "    if not (i % 10):\n",
    "        print(str(i) + '/' + str(frames), end='\\r')\n",
    "        color_idx = colors(labels_uint[i])\n",
    "        plt.plot(edges_true[0][:-1], hist_true[i], \n",
    "                 color=color_idx, linewidth=4, \n",
    "                 alpha=0.5)\n",
    "\n",
    "for i in range(max(labels_uint) + 1):\n",
    "    c = colors(i)\n",
    "    plt.plot(edges_true[0][:-1], np.zeros(hist_true[0].shape), \n",
    "                 color=c, linewidth=10, \n",
    "                 alpha=0.5, label='class: ' + str(i))\n",
    "\n",
    "plt.plot(edges[:-1], np.zeros(hist.shape), \n",
    "             color='white', linewidth=10, \n",
    "             alpha=1)\n",
    "    \n",
    "plt.legend(prop={'size': 24})\n",
    "plt.show()"
   ]
  },
  {
   "cell_type": "code",
   "execution_count": null,
   "metadata": {},
   "outputs": [],
   "source": []
  }
 ],
 "metadata": {
  "kernelspec": {
   "display_name": "Python 3",
   "language": "python",
   "name": "python3"
  },
  "language_info": {
   "codemirror_mode": {
    "name": "ipython",
    "version": 3
   },
   "file_extension": ".py",
   "mimetype": "text/x-python",
   "name": "python",
   "nbconvert_exporter": "python",
   "pygments_lexer": "ipython3",
   "version": "3.8.6"
  }
 },
 "nbformat": 4,
 "nbformat_minor": 4
}
