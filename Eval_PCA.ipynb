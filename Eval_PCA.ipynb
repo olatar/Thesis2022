{
 "cells": [
  {
   "cell_type": "code",
   "execution_count": 1,
   "metadata": {},
   "outputs": [],
   "source": [
    "%matplotlib inline\n",
    "import os\n",
    "import matplotlib.pyplot as plt\n",
    "from matplotlib.pyplot import figure\n",
    "import numpy as np\n",
    "from PIL import Image\n",
    "import shutil\n",
    "import pandas as pd\n",
    "import cv2\n",
    "from IPython.display import clear_output\n",
    "import os\n",
    "from sklearn import preprocessing\n",
    "import matplotlib.patches as patches\n",
    "import time\n",
    "from sklearn.decomposition import PCA"
   ]
  },
  {
   "cell_type": "markdown",
   "metadata": {},
   "source": [
    "# For resizing Danlo data from 640x480 to 640x512"
   ]
  },
  {
   "cell_type": "code",
   "execution_count": null,
   "metadata": {},
   "outputs": [],
   "source": [
    "im = Image.open(\"/Volumes/Samsung_T5/Danilo_data/IR/All-Frames-Simple/00056.png\")\n",
    "plt.imshow(im,cmap='gray')\n",
    "\n",
    "im3=cv2.resize(np.array(im), (640,512), interpolation = cv.INTER_CUBIC)\n",
    "\n",
    "plt.imshow(im)"
   ]
  },
  {
   "cell_type": "markdown",
   "metadata": {},
   "source": [
    "# Create Dataset"
   ]
  },
  {
   "cell_type": "code",
   "execution_count": 2,
   "metadata": {},
   "outputs": [],
   "source": [
    "Haak1_true_df = pd.read_csv(r'/Volumes/Samsung_T5/Haak_data/Flight1/Haak1_true_annot.csv')\n",
    "Haak1_anomalies_object_df = pd.read_csv(r'/Volumes/Samsung_T5/Haak_data/Flight1/Haak1_ano_object_annot.csv')\n",
    "Haak1_anomalies_land_df = pd.read_csv(r'/Volumes/Samsung_T5/Haak_data/Flight1/Haak1_ano_land_annot.csv')\n",
    "\n",
    "Haak3_true_df = pd.read_csv(r'/Volumes/Samsung_T5/Haak_data/Flight3/Haak3_true_annot.csv')\n",
    "Haak3_anomalies_object_df = pd.read_csv(r'/Volumes/Samsung_T5/Haak_data/Flight3/Haak3_ano_object_annot.csv')\n",
    "Haak3_anomalies_land_df = pd.read_csv(r'/Volumes/Samsung_T5/Haak_data/Flight3/Haak3_ano_land_annot.csv')\n",
    "\n",
    "Danilo_true_df = pd.read_csv(r'/Volumes/Samsung_T5/Danilo_data/IR/Danilo_true_annot.csv')\n",
    "Danilo_anomalies_land_df = pd.read_csv(r'/Volumes/Samsung_T5/Danilo_data/IR/Danilo_ano_land_annot.csv')\n",
    "Empty_df = pd.read_csv(r'/Volumes/Samsung_T5/Danilo_data/IR/Empty.csv')"
   ]
  },
  {
   "cell_type": "code",
   "execution_count": 3,
   "metadata": {},
   "outputs": [],
   "source": [
    "# Haak - Flight 1\n",
    "Haak1_true_train       = Haak1_true_df.sample(frac = 0.7, random_state = 100)\n",
    "Haak1_true_test        = Haak1_true_df.drop(Haak1_true_train.index)\n",
    "\n",
    "Haak1_ano_object_train = Haak1_anomalies_object_df.sample(frac = 0.7, random_state = 100)\n",
    "Haak1_ano_object_test  = Haak1_anomalies_object_df.drop(Haak1_ano_object_train.index)\n",
    "\n",
    "Haak1_ano_land_train   = Haak1_anomalies_land_df.sample(frac = 0.7, random_state = 100)\n",
    "Haak1_ano_land_test    = Haak1_anomalies_land_df.drop(Haak1_ano_land_train.index)\n",
    " \n",
    "# Haak - Flight 1\n",
    "Haak3_true_test        = Haak3_true_df\n",
    "Haak3_ano_object_test  = Haak3_anomalies_object_df\n",
    "Haak3_ano_land_test    = Haak3_anomalies_land_df\n",
    "\n",
    "# Danilo\n",
    "Danilo_true_test       = Danilo_true_df\n",
    "Danilo_ano_land_test   = Danilo_anomalies_land_df\n",
    "empty                  = Empty_df"
   ]
  },
  {
   "cell_type": "code",
   "execution_count": 126,
   "metadata": {},
   "outputs": [
    {
     "data": {
      "text/html": [
       "<div>\n",
       "<style scoped>\n",
       "    .dataframe tbody tr th:only-of-type {\n",
       "        vertical-align: middle;\n",
       "    }\n",
       "\n",
       "    .dataframe tbody tr th {\n",
       "        vertical-align: top;\n",
       "    }\n",
       "\n",
       "    .dataframe thead th {\n",
       "        text-align: right;\n",
       "    }\n",
       "</style>\n",
       "<table border=\"1\" class=\"dataframe\">\n",
       "  <thead>\n",
       "    <tr style=\"text-align: right;\">\n",
       "      <th></th>\n",
       "      <th>Unnamed: 0</th>\n",
       "      <th>file</th>\n",
       "      <th>x</th>\n",
       "      <th>y</th>\n",
       "      <th>w</th>\n",
       "      <th>h</th>\n",
       "    </tr>\n",
       "  </thead>\n",
       "  <tbody>\n",
       "    <tr>\n",
       "      <th>0</th>\n",
       "      <td>102</td>\n",
       "      <td>00056.png</td>\n",
       "      <td>0</td>\n",
       "      <td>0</td>\n",
       "      <td>640</td>\n",
       "      <td>480</td>\n",
       "    </tr>\n",
       "    <tr>\n",
       "      <th>1</th>\n",
       "      <td>163</td>\n",
       "      <td>00057.png</td>\n",
       "      <td>394</td>\n",
       "      <td>151</td>\n",
       "      <td>246</td>\n",
       "      <td>329</td>\n",
       "    </tr>\n",
       "    <tr>\n",
       "      <th>2</th>\n",
       "      <td>62</td>\n",
       "      <td>00058.png</td>\n",
       "      <td>0</td>\n",
       "      <td>0</td>\n",
       "      <td>205</td>\n",
       "      <td>77</td>\n",
       "    </tr>\n",
       "    <tr>\n",
       "      <th>3</th>\n",
       "      <td>134</td>\n",
       "      <td>00059.png</td>\n",
       "      <td>120</td>\n",
       "      <td>0</td>\n",
       "      <td>18</td>\n",
       "      <td>31</td>\n",
       "    </tr>\n",
       "    <tr>\n",
       "      <th>4</th>\n",
       "      <td>97</td>\n",
       "      <td>00060.png</td>\n",
       "      <td>82</td>\n",
       "      <td>0</td>\n",
       "      <td>13</td>\n",
       "      <td>29</td>\n",
       "    </tr>\n",
       "    <tr>\n",
       "      <th>...</th>\n",
       "      <td>...</td>\n",
       "      <td>...</td>\n",
       "      <td>...</td>\n",
       "      <td>...</td>\n",
       "      <td>...</td>\n",
       "      <td>...</td>\n",
       "    </tr>\n",
       "    <tr>\n",
       "      <th>199</th>\n",
       "      <td>146</td>\n",
       "      <td>00683.png</td>\n",
       "      <td>187</td>\n",
       "      <td>0</td>\n",
       "      <td>17</td>\n",
       "      <td>46</td>\n",
       "    </tr>\n",
       "    <tr>\n",
       "      <th>200</th>\n",
       "      <td>190</td>\n",
       "      <td>00684.png</td>\n",
       "      <td>0</td>\n",
       "      <td>0</td>\n",
       "      <td>213</td>\n",
       "      <td>96</td>\n",
       "    </tr>\n",
       "    <tr>\n",
       "      <th>201</th>\n",
       "      <td>136</td>\n",
       "      <td>00685.png</td>\n",
       "      <td>0</td>\n",
       "      <td>0</td>\n",
       "      <td>211</td>\n",
       "      <td>67</td>\n",
       "    </tr>\n",
       "    <tr>\n",
       "      <th>202</th>\n",
       "      <td>42</td>\n",
       "      <td>00686.png</td>\n",
       "      <td>198</td>\n",
       "      <td>0</td>\n",
       "      <td>14</td>\n",
       "      <td>18</td>\n",
       "    </tr>\n",
       "    <tr>\n",
       "      <th>203</th>\n",
       "      <td>57</td>\n",
       "      <td>00687.png</td>\n",
       "      <td>0</td>\n",
       "      <td>0</td>\n",
       "      <td>212</td>\n",
       "      <td>43</td>\n",
       "    </tr>\n",
       "  </tbody>\n",
       "</table>\n",
       "<p>204 rows × 6 columns</p>\n",
       "</div>"
      ],
      "text/plain": [
       "     Unnamed: 0       file    x    y    w    h\n",
       "0           102  00056.png    0    0  640  480\n",
       "1           163  00057.png  394  151  246  329\n",
       "2            62  00058.png    0    0  205   77\n",
       "3           134  00059.png  120    0   18   31\n",
       "4            97  00060.png   82    0   13   29\n",
       "..          ...        ...  ...  ...  ...  ...\n",
       "199         146  00683.png  187    0   17   46\n",
       "200         190  00684.png    0    0  213   96\n",
       "201         136  00685.png    0    0  211   67\n",
       "202          42  00686.png  198    0   14   18\n",
       "203          57  00687.png    0    0  212   43\n",
       "\n",
       "[204 rows x 6 columns]"
      ]
     },
     "execution_count": 126,
     "metadata": {},
     "output_type": "execute_result"
    }
   ],
   "source": [
    "Danilo_ano_land_test"
   ]
  },
  {
   "cell_type": "markdown",
   "metadata": {},
   "source": [
    "# PCA NEEDS ALL DATA AT THE SAME TIME IN TRAIN - remember this random order"
   ]
  },
  {
   "cell_type": "code",
   "execution_count": 154,
   "metadata": {},
   "outputs": [
    {
     "name": "stdout",
     "output_type": "stream",
     "text": [
      "(502, 480, 640)\n"
     ]
    }
   ],
   "source": [
    "#directory = '/Volumes/Samsung_T5/Haak_data/Flight1/20170926_norm_1100-3900/'\n",
    "directory = '/Volumes/Samsung_T5/Danilo_data/IR/All-Frames-Simple/'\n",
    "df = Danilo_ano_land_test\n",
    "n_files = len(df)\n",
    "\n",
    "train_imgs = []\n",
    "\n",
    "j = 0\n",
    "for i, file in df.iterrows():\n",
    "    j += 1\n",
    "    print(str(j) + '/' + str(n_files), end='\\r')\n",
    "    file = str(file[1]).split('.')[0][:] + '.png'\n",
    "    img = np.array(Image.open(os.path.join(directory, file)))\n",
    "    train_imgs = [*train_imgs, img]\n",
    "    \n",
    "train_imgs = np.array(train_imgs)\n",
    "print(train_imgs.shape)"
   ]
  },
  {
   "cell_type": "code",
   "execution_count": 146,
   "metadata": {},
   "outputs": [],
   "source": [
    "#train_imgs = []\n",
    "#train_imgs_flat = []\n",
    "#X = []"
   ]
  },
  {
   "cell_type": "code",
   "execution_count": 155,
   "metadata": {},
   "outputs": [
    {
     "name": "stdout",
     "output_type": "stream",
     "text": [
      "(502, 307200)\n"
     ]
    },
    {
     "data": {
      "text/plain": [
       "100"
      ]
     },
     "execution_count": 155,
     "metadata": {},
     "output_type": "execute_result"
    }
   ],
   "source": [
    "len(train_imgs)\n",
    "train_imgs_flat = train_imgs.reshape(len(train_imgs),-1)\n",
    "X = train_imgs_flat\n",
    "print(X.shape)\n",
    "\n",
    "20\n",
    "100"
   ]
  },
  {
   "cell_type": "code",
   "execution_count": 156,
   "metadata": {},
   "outputs": [
    {
     "name": "stdout",
     "output_type": "stream",
     "text": [
      "--- 9.53176498413086 seconds ---\n"
     ]
    }
   ],
   "source": [
    "from sklearn.decomposition import PCA\n",
    "import time\n",
    "%matplotlib inline\n",
    "\n",
    "start_time = time.time()\n",
    "\n",
    "X = train_imgs_flat\n",
    "X_PCA = PCA(n_components = 25).fit(X)\n",
    "\n",
    "print(\"--- %s seconds ---\" % (time.time() - start_time))\n",
    "\n",
    "#components = 25\n",
    "#X = train_imgs_flat\n",
    "#X_PCA = PCA(n_components = 3).fit(X)"
   ]
  },
  {
   "cell_type": "code",
   "execution_count": 157,
   "metadata": {},
   "outputs": [
    {
     "data": {
      "text/plain": [
       "(1, 307200)"
      ]
     },
     "execution_count": 157,
     "metadata": {},
     "output_type": "execute_result"
    }
   ],
   "source": [
    "X[0:1].shape"
   ]
  },
  {
   "cell_type": "code",
   "execution_count": 160,
   "metadata": {},
   "outputs": [
    {
     "data": {
      "text/plain": [
       "array([0.42887817, 0.64315197, 0.72169508, 0.76049433, 0.78906319,\n",
       "       0.81327419, 0.83013712, 0.84397792, 0.85565349, 0.86454944])"
      ]
     },
     "execution_count": 160,
     "metadata": {},
     "output_type": "execute_result"
    }
   ],
   "source": [
    "np.cumsum(X_PCA.explained_variance_ratio_[:10])"
   ]
  },
  {
   "cell_type": "code",
   "execution_count": 151,
   "metadata": {},
   "outputs": [
    {
     "name": "stderr",
     "output_type": "stream",
     "text": [
      "No handles with labels found to put in legend.\n"
     ]
    },
    {
     "data": {
      "text/plain": [
       "<Figure size 432x288 with 0 Axes>"
      ]
     },
     "metadata": {},
     "output_type": "display_data"
    },
    {
     "data": {
      "image/png": "[encoded data removed]",
      "text/plain": [
       "<Figure size 1080x216 with 1 Axes>"
      ]
     },
     "metadata": {
      "needs_background": "light"
     },
     "output_type": "display_data"
    }
   ],
   "source": [
    "#########\n",
    "# F1\n",
    "import matplotlib.pyplot as plt\n",
    "import numpy as np\n",
    "import datetime\n",
    "import matplotlib.dates as mdates\n",
    "from matplotlib.transforms import Transform\n",
    "import matplotlib.patheffects as pe\n",
    "import numpy as np\n",
    "from scipy.integrate import simps\n",
    "from numpy import trapz\n",
    "from matplotlib.ticker import (\n",
    "    AutoLocator, AutoMinorLocator)\n",
    "plt.figure().clear()\n",
    "plt.close()\n",
    "plt.cla()\n",
    "plt.clf()\n",
    "\n",
    "fig, ax = plt.subplots(figsize=(15, 3))\n",
    "fontsize = 24\n",
    "from matplotlib import rc\n",
    "rc('font',**{'family':'serif','serif':['Palatino']})\n",
    "plt.rcParams['pdf.fonttype'] = 42\n",
    "plt.grid(True)\n",
    "\n",
    "plt.bar(np.arange(1,components+1),X_PCA.explained_variance_ratio_[:components])\n",
    "plt.plot(np.arange(1,components+1), np.cumsum(X_PCA.explained_variance_ratio_[:components]),\n",
    "         color=\"darkorange\", marker=\"D\")\n",
    "\n",
    "\n",
    "plt.xlim((0,9))\n",
    "#plt.ylim((0.001,0.155))\n",
    "plt.xlabel('Principal components', fontsize=fontsize, fontname='Palatino')\n",
    "plt.ylabel('Explained variance', fontsize=fontsize, fontname='Palatino')\n",
    "plt.xticks(fontsize=fontsize-3, fontname='Palatino')\n",
    "plt.yticks(fontsize=fontsize-3, fontname='Palatino')\n",
    "\n",
    "#ax.set_yscale('log')\n",
    "frame1 = plt.gca()\n",
    "#frame1.axes.xaxis.set_ticklabels([])\n",
    "#frame1.axes.yaxis.set_ticklabels([])\n",
    "\n",
    "plt.legend(fontsize=fontsize, prop={'size':fontsize-4, 'family': 'Palatino'})\n",
    "#plt.title('Histogram of IQ')\n",
    "#plt.text(60, .025, r'$\\mu=100,\\ \\sigma=15$')\n",
    "#plt.xlim(40, 160)\n",
    "#plt.ylim(0, 0.03)\n",
    "\n",
    "plt.savefig('/Users/ola/Documents/Masteroppgave/Figures/PCA_pareto_F3_ResultsDisc.pdf', bbox_inches='tight')\n",
    "\n",
    "plt.show()"
   ]
  },
  {
   "cell_type": "code",
   "execution_count": null,
   "metadata": {},
   "outputs": [],
   "source": [
    "# For later?\n",
    "'''\n",
    "true_imgs_rescale = []\n",
    "ano_object_imgs_rescale = []\n",
    "ano_land_imgs_rescale = []\n",
    "\n",
    "files = len(os.listdir(directory))\n",
    "loops = files\n",
    "\n",
    "a = 0\n",
    "b = 0\n",
    "c = 0\n",
    "for i, file in enumerate(os.listdir(directory)[:loops]):\n",
    "    print(str(i) + '/' + str(files), end='\\r')\n",
    "\n",
    "    file_png = file.split('.')[0][1:] + '.png'\n",
    "    isAnomObject = anomalies_object_df['Anomalies_object'].str.contains(file_png).sum()\n",
    "    isAnomLand   = anomalies_land_df['Anomalies_land'].str.contains(file_png).sum()\n",
    "    isTrue       = anomalies_true_df['True'].str.contains(file_png).sum()\n",
    "    \n",
    "    if isTrue:\n",
    "        img = true_imgs[a]\n",
    "        img = cv2.resize(img,(int(img.shape[1] / 2), int(img.shape[0] / 2)))\n",
    "        true_imgs_rescale = [*true_imgs_rescale, img]\n",
    "        a = a + 1\n",
    "    \n",
    "    if isAnomObject:\n",
    "        img = ano_object_imgs[b]\n",
    "        img = cv2.resize(img,(int(img.shape[1] / 2), int(img.shape[0] / 2)))\n",
    "        ano_object_imgs_rescale = [*ano_object_imgs_rescale, img]\n",
    "        b = b + 1\n",
    "        \n",
    "    if isAnomLand:\n",
    "        img = ano_land_imgs[c]\n",
    "        img = cv2.resize(img,(int(img.shape[1] / 2), int(img.shape[0] / 2)))\n",
    "        ano_land_imgs_rescale = [*ano_land_imgs_rescale, img]\n",
    "        c = c + 1\n",
    "        \n",
    "true_imgs_rescale       = np.array(true_imgs_rescale)\n",
    "ano_object_imgs_rescale = np.array(ano_object_imgs_rescale)\n",
    "ano_land_imgs_rescale   = np.array(ano_land_imgs_rescale)\n",
    "'''"
   ]
  },
  {
   "cell_type": "markdown",
   "metadata": {},
   "source": [
    "# TRAIN"
   ]
  },
  {
   "cell_type": "code",
   "execution_count": null,
   "metadata": {},
   "outputs": [],
   "source": [
    "Haak1_img_dir = '/Volumes/Samsung_T5/Haak_data/Flight1/20170926_norm_1100-3900/'\n",
    "Haak3_img_dir = '/Volumes/Samsung_T5/Haak_data/Flight3/20170926_norm_1100-3900/'\n",
    "Danilo_img_dir = '/Volumes/Samsung_T5/Danilo_data/IR/All-Frames-Simple/'\n",
    "n_component = 3\n",
    "threshold_mask = 5\n",
    "\n",
    "\n",
    "test_sets = [[Haak1_img_dir,  Haak1_true_test,  Haak1_ano_object_test,  Haak1_ano_land_test],\n",
    "             [Haak3_img_dir,  Haak3_true_test,  Haak3_ano_object_test,  Haak3_ano_land_test],\n",
    "             [Danilo_img_dir, Danilo_true_test, Danilo_ano_land_test,   empty]]\n",
    "\n",
    "# Train with all train data - aggregate to numpy 3D object\n",
    "train_data = Haak1_true_train[:5000]\n",
    "train_imgs_3D = []\n",
    "for file in train_data['file']:\n",
    "    img = np.array(Image.open(os.path.join(Haak1_img_dir, file)))\n",
    "    train_imgs_3D = [*train_imgs_3D, img]\n",
    "train_imgs_3D = np.array(train_imgs_3D)\n",
    "\n",
    "# Test\n",
    "for i, (img_dir, true_test, object_test, land_test) in enumerate(test_sets):\n",
    "    print('##### Test set: {} #####'.format(i+1))\n",
    "    \n",
    "    PCA_model = PCA(n_components = n_component).fit(train_imgs_3D)\n",
    "\n",
    "    run_PCA(PCA_model, threshold_mask, img_dir,\n",
    "                 Haak1_true_validate, Haak1_ano_object_train, Haak1_ano_land_train)\n",
    "\n",
    "train_imgs_3D = []"
   ]
  },
  {
   "cell_type": "markdown",
   "metadata": {},
   "source": [
    "# TEST"
   ]
  },
  {
   "cell_type": "code",
   "execution_count": 5,
   "metadata": {},
   "outputs": [
    {
     "name": "stdout",
     "output_type": "stream",
     "text": [
      "6892/6893\r"
     ]
    }
   ],
   "source": [
    "anomalies_object_df = pd.read_csv(r'/Volumes/Samsung_T5/Haak_data/Flight3/Anomalies_object.csv')\n",
    "anomalies_land_df = pd.read_csv(r'/Volumes/Samsung_T5/Haak_data/Flight3/Anomalies_land.csv')\n",
    "anomalies_all_df = pd.read_csv(r'/Volumes/Samsung_T5/Haak_data/Flight3/Anomalies_all.csv')\n",
    "anomalies_true_df = pd.read_csv(r'/Volumes/Samsung_T5/Haak_data/Flight3/True.csv')\n",
    "\n",
    "directory = '/Volumes/Samsung_T5/Haak_data/Flight3/20170926_full-norm/' # 14-bit\n",
    "\n",
    "true_imgs = []\n",
    "ano_object_imgs = []\n",
    "ano_land_imgs = []\n",
    "\n",
    "files = len(os.listdir(directory))\n",
    "loops = files\n",
    "\n",
    "for i, file in enumerate(os.listdir(directory)[:loops]):\n",
    "    print(str(i) + '/' + str(files), end='\\r')\n",
    "\n",
    "    file_png = file.split('.')[0][1:] + '.png'\n",
    "    isAnomObject = anomalies_object_df['Anomalies_object'].str.contains(file_png).sum()\n",
    "    isAnomLand   = anomalies_land_df['Anomalies_land'].str.contains(file_png).sum()\n",
    "    isTrue       = anomalies_true_df['True'].str.contains(file_png).sum()\n",
    "    \n",
    "    '''\n",
    "    if isTrue:\n",
    "        img = np.array(Image.open(os.path.join(directory, file)))\n",
    "        true_imgs = [*true_imgs, img]\n",
    "    \n",
    "    '''\n",
    "    if isAnomObject:\n",
    "        img = np.array(Image.open(os.path.join(directory, file)))\n",
    "        ano_object_imgs = [*ano_object_imgs, img]\n",
    "        \n",
    "    if isAnomLand:\n",
    "        img = np.array(Image.open(os.path.join(directory, file)))\n",
    "        ano_land_imgs = [*ano_land_imgs, img]\n",
    "     \n",
    "        \n",
    "true_imgs       = np.array(true_imgs)\n",
    "ano_object_imgs = np.array(ano_object_imgs)\n",
    "ano_land_imgs   = np.array(ano_land_imgs)"
   ]
  },
  {
   "cell_type": "markdown",
   "metadata": {},
   "source": [
    "# Evaluation Helper-functions"
   ]
  },
  {
   "cell_type": "code",
   "execution_count": null,
   "metadata": {},
   "outputs": [],
   "source": [
    "def covering_rectangle_from_square_boxes(boxes):\n",
    "    output = np.array([])\n",
    "    \n",
    "    if len(boxes):\n",
    "        x_left = np.min(boxes[:,0])\n",
    "        width = np.max(boxes[:,0] + boxes[:,2] - x_left)\n",
    "        y_top = np.min(boxes[:,1])\n",
    "        height = np.max(boxes[:,1] + boxes[:,3] - y_top)\n",
    "        \n",
    "        output = np.array([[x_left, y_top, width, height]])\n",
    "\n",
    "    return output\n",
    "\n",
    "def intersection_info(box_i, box_j):\n",
    "    # NMS\n",
    "    x_left_i, y_upper_i, w_i, h_i = box_i\n",
    "    x_right_i = x_left_i + w_i\n",
    "    y_lower_i = y_upper_i + h_i\n",
    "    area_i = w_i*h_i\n",
    "\n",
    "    x_left_j, y_upper_j, w_j, h_j = box_j\n",
    "    x_right_j = x_left_j + w_j\n",
    "    y_lower_j = y_upper_j + h_j\n",
    "    area_j = w_j*h_j\n",
    "\n",
    "    x_left  = max(x_left_i, x_left_j)\n",
    "    y_upper = max(y_upper_i, y_upper_j)\n",
    "\n",
    "    x_right = min(x_right_i, x_right_j)\n",
    "    y_lower = min(y_lower_i, y_lower_j)\n",
    "\n",
    "    w_intersec = max(0, x_right - x_left)\n",
    "    h_intersec = max(0, y_lower - y_upper)\n",
    "\n",
    "    intersection_area = w_intersec*h_intersec\n",
    "    union_area = area_i + area_j - intersection_area\n",
    "    IoU = intersection_area / union_area\n",
    "    \n",
    "    return list([x_left, y_upper, w_intersec, h_intersec, intersection_area, union_area, IoU, area_i, area_j])\n",
    "\n",
    "def compare_predictions_with_truth(pred_boxes, true_boxes):\n",
    "    \n",
    "    intersection_boxes = []\n",
    "    match_found_pred = np.ones(len(pred_boxes))\n",
    "    match_found_true = np.ones(len(true_boxes))\n",
    "    \n",
    "    for i, box_pred in enumerate(pred_boxes):\n",
    "        for j, box_true in enumerate(true_boxes):\n",
    "                     \n",
    "            x_left, y_upper, w_intsc, h_intsc, A_intsc, A_union, IoU, A_pred, A_true  = intersection_info(box_pred, box_true)\n",
    "            \n",
    "            if IoU >= 0.1:\n",
    "                match_found_pred[i] = 0\n",
    "                match_found_true[j] = 0\n",
    "                intersection_boxes = [*intersection_boxes, [x_left, y_upper, w_intsc, h_intsc]]\n",
    "            \n",
    "            elif (IoU >= 0.05) and ((A_intsc>=A_pred) or (A_intsc>=A_true)):\n",
    "                match_found_pred[i] = 0\n",
    "                match_found_true[j] = 0\n",
    "                intersection_boxes = [*intersection_boxes, [x_left, y_upper, w_intsc, h_intsc]]\n",
    "            \n",
    "            \n",
    "    intersection_boxes = np.array(intersection_boxes)\n",
    "        \n",
    "    false_positives = match_found_pred.sum()\n",
    "    false_negatives = match_found_true.sum()\n",
    "    true_positives  = len(match_found_true) - false_negatives\n",
    "                \n",
    "    return intersection_boxes, false_positives, false_negatives, true_positives\n",
    "\n",
    "def boxes_from_mask(mask, area_threshold):\n",
    "    \n",
    "    contours, hierarchy = cv2.findContours(mask.copy(), cv2.RETR_EXTERNAL, 2)\n",
    "    \n",
    "    # Threshold by area\n",
    "    contours_areathrsh = []\n",
    "    for cnt in contours:\n",
    "        if cv2.contourArea(cnt) > area_threshold:\n",
    "            contours_areathrsh = [*contours_areathrsh, cnt]\n",
    "    contours_areathrsh = np.array(contours_areathrsh)\n",
    "    \n",
    "    # combine boxes thresholded\n",
    "    boxes = []\n",
    "    for i, cnt in enumerate(contours_areathrsh):\n",
    "        box = cv2.boundingRect(cnt)\n",
    "        boxes = [*boxes, box]\n",
    "    boxes = np.array(boxes)\n",
    "\n",
    "    return boxes\n",
    "\n",
    "def plot_results(img, mask, pred_boxes, true_boxes, intersection_boxes, title):\n",
    "    colors = ['r', 'c', 'g', 'b', 'y', 'm']\n",
    "    \n",
    "    clear_output(wait=True)\n",
    "    fig = plt.figure(figsize=(21,10))\n",
    "\n",
    "    # Plot boxes - Area thresholded\n",
    "    plt.subplot(1,2,1)\n",
    "    plt.imshow(mask, cmap='gray')\n",
    "    ax = plt.gca()\n",
    "    \n",
    "    plt.subplot(1,2,2)\n",
    "    plt.imshow(img, cmap='gray', vmin=0, vmax=255)\n",
    "    ax = plt.gca()\n",
    "\n",
    "    for i, box in enumerate(intersection_boxes):\n",
    "        x,y,w,h = box # upper left\n",
    "        rect = patches.Rectangle((x,y), w,h, edgecolor='y', facecolor='y', fill=True, linewidth=2, alpha=0.25)\n",
    "        ax.add_patch(rect)     \n",
    "    \n",
    "    for i, box in enumerate(pred_boxes):\n",
    "        x,y,w,h = box # upper left\n",
    "        rect = patches.Rectangle((x,y), w,h, edgecolor='r', fill=False, linewidth=2)\n",
    "        ax.add_patch(rect)\n",
    "        \n",
    "    for i, box in enumerate(true_boxes):\n",
    "        x,y,w,h = box # upper left\n",
    "        rect = patches.Rectangle((x,y), w,h, edgecolor='g', fill=False, linewidth=2)\n",
    "        ax.add_patch(rect)           \n",
    "        \n",
    "     \n",
    "    fig.suptitle(title + ' | Found: {}, Truth: {}'.format(len(pred_boxes), len(true_boxes)), fontsize=18)\n",
    "    plt.show()"
   ]
  },
  {
   "cell_type": "code",
   "execution_count": null,
   "metadata": {},
   "outputs": [],
   "source": [
    "def run_edge_detection(threshold_mask, gaussian_mask, img_dir, true_df, object_df, land_df):\n",
    "    \n",
    "    #####################################################\n",
    "    area_threshold = 9\n",
    "    \n",
    "    testObjects = True\n",
    "    testLand = True\n",
    "    testTrue = True\n",
    "    \n",
    "    doPlots = True\n",
    "    #####################################################\n",
    "\n",
    "    files = os.listdir(img_dir)\n",
    "    n_files = len(files)\n",
    "\n",
    "    loops = n_files\n",
    "\n",
    "    object_metrics = {'FPs':0, 'FNs':0, 'TPs': 0}\n",
    "    land_metrics   = {'FPs':0, 'FNs':0, 'TPs': 0}\n",
    "    true_metrics   = {'FPs':0, 'FNs':0, 'TPs': 0}\n",
    "\n",
    "    scenery = ''\n",
    "\n",
    "    for i, file in enumerate(files[:loops]):\n",
    "        true_boxes = []\n",
    "        pred_boxes = []\n",
    "        intersection_boxes = []\n",
    "        FP, FN, TP = 0,0,0\n",
    "\n",
    "        if i>0:\n",
    "\n",
    "            img = np.array(Image.open(os.path.join(img_dir, file)))\n",
    "\n",
    "            isAnomObject = object_df['file'].str.contains(file).sum()\n",
    "            isAnomLand   = land_df['file'].str.contains(file).sum()\n",
    "            isTrue       = true_df['file'].str.contains(file).sum()\n",
    "\n",
    "            ##################### ALGORITHM #####################\n",
    "            mask = edge_detection(img, threshold_mask, gaussian_mask)\n",
    "            #####################################################\n",
    "\n",
    "            if isAnomObject and testObjects:\n",
    "                scenery = 'Object'\n",
    "                true_boxes = object_df[object_df['file'] == file]\n",
    "                true_boxes = true_boxes[['x','y','w','h']].to_numpy()      \n",
    "            elif isAnomLand and testLand:\n",
    "                scenery = 'Land'\n",
    "                true_boxes = land_df[land_df['file'] == file]\n",
    "                true_boxes = true_boxes[['x','y','w','h']].to_numpy()       \n",
    "            elif isTrue and testTrue:\n",
    "                scenery = 'Nothing'\n",
    "            else:\n",
    "                scenery = 'Error'\n",
    "                continue\n",
    "\n",
    "            # Pred Boxes\n",
    "            pred_boxes = boxes_from_mask(mask, area_threshold)\n",
    "\n",
    "            if isAnomLand:\n",
    "                pred_boxes = covering_rectangle_from_square_boxes(pred_boxes) # Combine small boxes\n",
    "\n",
    "            # Calculate accuracy\n",
    "            intersection_boxes, FP, FN, TP = compare_predictions_with_truth(pred_boxes, true_boxes)\n",
    "\n",
    "            # Metrics\n",
    "            if isAnomObject and testObjects: \n",
    "                update = {'FPs':FP, 'FNs':FN, 'TPs': TP}\n",
    "                object_metrics = {i: object_metrics.get(i, 0) + update.get(i, 0) for i in set(update)}\n",
    "            elif isAnomLand and testLand:\n",
    "                update = {'FPs':FP, 'FNs':FN, 'TPs': TP}\n",
    "                land_metrics = {i: land_metrics.get(i, 0) + update.get(i, 0) for i in set(update)}\n",
    "            elif isTrue and testTrue:\n",
    "                update = {'FPs':FP, 'FNs':FN, 'TPs': TP}\n",
    "                true_metrics = {i: true_metrics.get(i, 0) + update.get(i, 0) for i in set(update)}\n",
    "\n",
    "            # Plot\n",
    "            title = 'FP: {}, FN: {}, TP: {} | {}'.format(FP, FN, TP, scenery)\n",
    "\n",
    "            if doPlots:\n",
    "                plot_results(img, mask, pred_boxes, true_boxes, intersection_boxes, title)\n",
    "                \n",
    "            print('{}/{}'.format(int(file.split('.')[0]), n_files), end='\\r')\n",
    "            \n",
    "    print('\\n\\n######## mask threshold: {} | gaussian threshold: {} ########'.format(threshold_mask, gaussian_mask))    \n",
    "    print('Object: {}'.format(object_metrics))\n",
    "    print('Recall: {:.4f}'.format(object_metrics['TPs']/(object_metrics['FNs']+object_metrics['TPs']+0.00000001)))\n",
    "    print('Precision: {:.4f}'.format(object_metrics['TPs']/(object_metrics['FPs']+object_metrics['TPs']+0.00000001)))\n",
    "    print('--------')\n",
    "    print('Land: {}'.format(land_metrics))\n",
    "    print('Recall: {:.4f}'.format(land_metrics['TPs']/(land_metrics['FNs']+land_metrics['TPs']+0.00000001)))\n",
    "    print('Precision: {:.4f}'.format(land_metrics['TPs']/(land_metrics['FPs']+land_metrics['TPs']+0.00000001)))\n",
    "    print('--------')\n",
    "    print('True: {}'.format(true_metrics))\n",
    "    print('Recall: {:.4f}'.format(true_metrics['TPs']/(true_metrics['FNs']+true_metrics['TPs']+0.00000001)))\n",
    "    print('Precision: {:.4f}'.format(true_metrics['TPs']/(true_metrics['FPs']+true_metrics['TPs']+0.00000001)))"
   ]
  },
  {
   "cell_type": "markdown",
   "metadata": {},
   "source": [
    "### Haak - Flight 1 - Train / Validate"
   ]
  },
  {
   "cell_type": "code",
   "execution_count": null,
   "metadata": {},
   "outputs": [],
   "source": [
    "img_dir = '/Volumes/Samsung_T5/Haak_data/Flight1/20170926_norm_1100-3900/'\n",
    "#thresholds_masks = [2, 5, 10, 15, 20, 25]\n",
    "thresholds_masks = [4]\n",
    "gaussian_masks  = [7]\n",
    "\n",
    "for threshold_mask in thresholds_masks:\n",
    "    for gaussian_mask in gaussian_masks:\n",
    "        run_edge_detection(threshold_mask, gaussian_mask, img_dir, \n",
    "                 Haak1_true_train, Haak1_ano_object_train, Haak1_ano_land_train)"
   ]
  },
  {
   "cell_type": "markdown",
   "metadata": {},
   "source": [
    "### All - Test"
   ]
  },
  {
   "cell_type": "code",
   "execution_count": 1,
   "metadata": {},
   "outputs": [
    {
     "ename": "NameError",
     "evalue": "name 'Haak1_true_test' is not defined",
     "output_type": "error",
     "traceback": [
      "\u001b[0;31m---------------------------------------------------------------------------\u001b[0m",
      "\u001b[0;31mNameError\u001b[0m                                 Traceback (most recent call last)",
      "\u001b[0;32m<ipython-input-1-4b6eaef2e80b>\u001b[0m in \u001b[0;36m<module>\u001b[0;34m\u001b[0m\n\u001b[1;32m      6\u001b[0m \u001b[0;34m\u001b[0m\u001b[0m\n\u001b[1;32m      7\u001b[0m \u001b[0;34m\u001b[0m\u001b[0m\n\u001b[0;32m----> 8\u001b[0;31m test_sets = [[Haak1_img_dir,  Haak1_true_test,  Haak1_ano_object_test,  Haak1_ano_land_test],\n\u001b[0m\u001b[1;32m      9\u001b[0m              \u001b[0;34m[\u001b[0m\u001b[0mHaak3_img_dir\u001b[0m\u001b[0;34m,\u001b[0m  \u001b[0mHaak3_true_test\u001b[0m\u001b[0;34m,\u001b[0m  \u001b[0mHaak3_ano_object_test\u001b[0m\u001b[0;34m,\u001b[0m  \u001b[0mHaak3_ano_land_test\u001b[0m\u001b[0;34m]\u001b[0m\u001b[0;34m,\u001b[0m\u001b[0;34m\u001b[0m\u001b[0;34m\u001b[0m\u001b[0m\n\u001b[1;32m     10\u001b[0m              [Danilo_img_dir, Danilo_true_test, Danilo_ano_land_test,   empty]]\n",
      "\u001b[0;31mNameError\u001b[0m: name 'Haak1_true_test' is not defined"
     ]
    }
   ],
   "source": [
    "Haak1_img_dir = '/Volumes/Samsung_T5/Haak_data/Flight1/20170926_norm_1100-3900/'\n",
    "Haak3_img_dir = '/Volumes/Samsung_T5/Haak_data/Flight3/20170926_norm_1100-3900/'\n",
    "Danilo_img_dir = '/Volumes/Samsung_T5/Danilo_data/IR/All-Frames-Simple/'\n",
    "n_component = 3\n",
    "threshold_mask = 5\n",
    "\n",
    "\n",
    "test_sets = [[Haak1_img_dir,  Haak1_true_test,  Haak1_ano_object_test,  Haak1_ano_land_test],\n",
    "             [Haak3_img_dir,  Haak3_true_test,  Haak3_ano_object_test,  Haak3_ano_land_test],\n",
    "             [Danilo_img_dir, Danilo_true_test, Danilo_ano_land_test,   empty]]\n",
    "\n",
    "# Train with all train data - aggregate to numpy 3D object\n",
    "train_data = Haak1_true_train[:5000]\n",
    "train_imgs_3D = []\n",
    "for file in train_data['file']:\n",
    "    img = np.array(Image.open(os.path.join(Haak1_img_dir, file)))\n",
    "    train_imgs_3D = [*train_imgs_3D, img]\n",
    "train_imgs_3D = np.array(train_imgs_3D)\n",
    "\n",
    "# Test\n",
    "for i, (img_dir, true_test, object_test, land_test) in enumerate(test_sets):\n",
    "    print('##### Test set: {} #####'.format(i+1))\n",
    "    \n",
    "    PCA_model = PCA(n_components = n_component).fit(train_imgs_3D)\n",
    "\n",
    "    run_PCA(PCA_model, threshold_mask, img_dir,\n",
    "                 Haak1_true_validate, Haak1_ano_object_train, Haak1_ano_land_train)\n",
    "\n",
    "train_imgs_3D = []"
   ]
  },
  {
   "cell_type": "code",
   "execution_count": null,
   "metadata": {},
   "outputs": [],
   "source": []
  }
 ],
 "metadata": {
  "kernelspec": {
   "display_name": "Python 3",
   "language": "python",
   "name": "python3"
  },
  "language_info": {
   "codemirror_mode": {
    "name": "ipython",
    "version": 3
   },
   "file_extension": ".py",
   "mimetype": "text/x-python",
   "name": "python",
   "nbconvert_exporter": "python",
   "pygments_lexer": "ipython3",
   "version": "3.8.6"
  }
 },
 "nbformat": 4,
 "nbformat_minor": 4
}
